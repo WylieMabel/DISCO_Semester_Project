{
 "cells": [
  {
   "cell_type": "code",
   "execution_count": 78,
   "metadata": {},
   "outputs": [],
   "source": [
    "import pandas as pd\n",
    "import numpy as np\n",
    "import matplotlib.pyplot as plt\n",
    "import re\n",
    "import math\n",
    "import string as str"
   ]
  },
  {
   "cell_type": "code",
   "execution_count": 79,
   "metadata": {},
   "outputs": [],
   "source": [
    "question_df = pd.read_csv(\"america_in_one_room/Stanford_A1R_Codebook B.csv\")"
   ]
  },
  {
   "cell_type": "code",
   "execution_count": 113,
   "metadata": {},
   "outputs": [],
   "source": [
    "questions_extracted = question_df[question_df['Variable'].notnull()]\n",
    "questions_extracted = questions_extracted[questions_extracted['Variable'].str.startswith(\"Q\")].reset_index()\n",
    "questions_extracted.iloc[0:48][['Variable','Variable Label']].to_csv(\"just_questions.csv\")"
   ]
  },
  {
   "cell_type": "code",
   "execution_count": 81,
   "metadata": {},
   "outputs": [],
   "source": [
    "study_df = pd.read_csv(\"america_in_one_room/Stanford_A1R_Dataset_APSR.csv\")\n"
   ]
  },
  {
   "cell_type": "code",
   "execution_count": 82,
   "metadata": {},
   "outputs": [],
   "source": [
    "post_opinion_df = study_df[study_df['POST'] == 1]"
   ]
  },
  {
   "cell_type": "code",
   "execution_count": 83,
   "metadata": {},
   "outputs": [],
   "source": [
    "grouped = post_opinion_df[post_opinion_df['GROUP'] != \" \"]\n",
    "control = post_opinion_df[post_opinion_df['GROUP'] == \" \"]"
   ]
  },
  {
   "cell_type": "code",
   "execution_count": 84,
   "metadata": {},
   "outputs": [],
   "source": [
    "race_dict = {1:\"White, non-Hispanic\", 2:\"Black, non-Hispanic\", 3:\"Other, non-Hispanic\", 4:\"Hispanic\", 5:\"2+, non-Hispanic\", 6:\"Asian, non-Hispanic\"}\n",
    "education_dict = {1:\"No HS diploma\", 2:\"HS graduate or equivalent\", 3:\"Some college\", 4:\"BA or above\"}\n",
    "gender_dict = {0:\"Unknown\", 1:\"Male\", 2:\"Female\"}\n",
    "age_categories_dict = {1:\"18-29\", 2:\"30-44\", 3:\"45-59\", 4:\"60+\"}\n",
    "party_id = {1:\"Democrat\", 2:\"Republican\", 3:\"Independent\"}"
   ]
  },
  {
   "cell_type": "code",
   "execution_count": 85,
   "metadata": {},
   "outputs": [
    {
     "name": "stderr",
     "output_type": "stream",
     "text": [
      "/var/folders/qw/dj7vjbyd6kb8q83q6chjb9m00000gn/T/ipykernel_16140/3404512867.py:1: SettingWithCopyWarning: \n",
      "A value is trying to be set on a copy of a slice from a DataFrame.\n",
      "Try using .loc[row_indexer,col_indexer] = value instead\n",
      "\n",
      "See the caveats in the documentation: https://pandas.pydata.org/pandas-docs/stable/user_guide/indexing.html#returning-a-view-versus-a-copy\n",
      "  grouped[\"RACE\"] = grouped.apply(lambda x: race_dict[x['RACETHNICITY']], axis= 1)\n",
      "/var/folders/qw/dj7vjbyd6kb8q83q6chjb9m00000gn/T/ipykernel_16140/3404512867.py:2: SettingWithCopyWarning: \n",
      "A value is trying to be set on a copy of a slice from a DataFrame.\n",
      "Try using .loc[row_indexer,col_indexer] = value instead\n",
      "\n",
      "See the caveats in the documentation: https://pandas.pydata.org/pandas-docs/stable/user_guide/indexing.html#returning-a-view-versus-a-copy\n",
      "  grouped[\"AGEBRACKET\"] = grouped.apply(lambda x: age_categories_dict[x['AGE4']], axis= 1)\n",
      "/var/folders/qw/dj7vjbyd6kb8q83q6chjb9m00000gn/T/ipykernel_16140/3404512867.py:3: SettingWithCopyWarning: \n",
      "A value is trying to be set on a copy of a slice from a DataFrame.\n",
      "Try using .loc[row_indexer,col_indexer] = value instead\n",
      "\n",
      "See the caveats in the documentation: https://pandas.pydata.org/pandas-docs/stable/user_guide/indexing.html#returning-a-view-versus-a-copy\n",
      "  grouped[\"EDUCATION\"] = grouped.apply(lambda x: education_dict[x['EDUC4']], axis= 1)\n",
      "/var/folders/qw/dj7vjbyd6kb8q83q6chjb9m00000gn/T/ipykernel_16140/3404512867.py:4: SettingWithCopyWarning: \n",
      "A value is trying to be set on a copy of a slice from a DataFrame.\n",
      "Try using .loc[row_indexer,col_indexer] = value instead\n",
      "\n",
      "See the caveats in the documentation: https://pandas.pydata.org/pandas-docs/stable/user_guide/indexing.html#returning-a-view-versus-a-copy\n",
      "  grouped[\"GENDER\"] = grouped.apply(lambda x: gender_dict[x['GENDER']], axis= 1)\n",
      "/var/folders/qw/dj7vjbyd6kb8q83q6chjb9m00000gn/T/ipykernel_16140/3404512867.py:5: SettingWithCopyWarning: \n",
      "A value is trying to be set on a copy of a slice from a DataFrame.\n",
      "Try using .loc[row_indexer,col_indexer] = value instead\n",
      "\n",
      "See the caveats in the documentation: https://pandas.pydata.org/pandas-docs/stable/user_guide/indexing.html#returning-a-view-versus-a-copy\n",
      "  grouped[\"PARTYBEFORE\"] = grouped.apply(lambda x: party_id[x['PARTYID3']], axis= 1)\n"
     ]
    }
   ],
   "source": [
    "grouped[\"RACE\"] = grouped.apply(lambda x: race_dict[x['RACETHNICITY']], axis= 1)\n",
    "grouped[\"AGEBRACKET\"] = grouped.apply(lambda x: age_categories_dict[x['AGE4']], axis= 1)\n",
    "grouped[\"EDUCATION\"] = grouped.apply(lambda x: education_dict[x['EDUC4']], axis= 1)\n",
    "grouped[\"GENDER\"] = grouped.apply(lambda x: gender_dict[x['GENDER']], axis= 1)\n",
    "grouped[\"PARTYBEFORE\"] = grouped.apply(lambda x: party_id[x['PARTYID3']], axis= 1)\n",
    "#grouped[\"PARTYAFTER\"] = grouped.apply(lambda x: party_id[int(x['T2PARTYID3'])], axis= 1)"
   ]
  },
  {
   "cell_type": "code",
   "execution_count": 116,
   "metadata": {},
   "outputs": [],
   "source": [
    "clean_df = grouped[['GROUP', 'CONDITION', 'Q1', 'Q2A', 'Q2B', 'Q2C', 'Q2D', 'Q2E', 'Q2F', 'Q2G', 'Q2H', 'Q2I', 'Q3A', 'Q3B', 'Q3C', 'Q3D', 'Q3E', 'Q3F', 'Q3G', 'Q3H', 'Q4A', 'Q4B', 'Q4C', 'Q4D', 'Q4E', 'Q4F', 'Q4G', 'Q4H', 'Q4I', 'Q4J', 'Q5A', 'Q5B', 'Q5C', 'Q5D', 'Q5E', 'Q5F', 'Q5G', 'Q5H', 'Q5I', 'Q5J', 'Q6A', 'Q6B', 'Q6C', 'Q6D', 'Q6E', 'Q6F', 'Q6G', 'Q6H', 'Q6I', 'Q6J', 'T2Q1', 'T2Q2A', 'T2Q2B', 'T2Q2C', 'T2Q2D', 'T2Q2E', 'T2Q2F', 'T2Q2G', 'T2Q2H', 'T2Q2I', 'T2Q3A', 'T2Q3B', 'T2Q3C', 'T2Q3D', 'T2Q3E', 'T2Q3F', 'T2Q3G', 'T2Q3H', 'T2Q4A', 'T2Q4B', 'T2Q4C', 'T2Q4D', 'T2Q4E', 'T2Q4F', 'T2Q4G', 'T2Q4H', 'T2Q4I', 'T2Q4J', 'T2Q5A', 'T2Q5B', 'T2Q5C', 'T2Q5D', 'T2Q5E', 'T2Q5F', 'T2Q5G', 'T2Q5H', 'T2Q5I', 'T2Q5J', 'T2Q6A', 'T2Q6B', 'T2Q6C', 'T2Q6D', 'T2Q6E', 'T2Q6F', 'T2Q6G', 'T2Q6H', 'T2Q6I', 'T2Q6J', 'RACE', 'AGEBRACKET', 'EDUCATION', 'PARTYBEFORE', 'GENDER', 'AGE']].reset_index()"
   ]
  },
  {
   "cell_type": "code",
   "execution_count": 117,
   "metadata": {},
   "outputs": [],
   "source": [
    "clean_df = clean_df.reset_index().rename({\"level_0\":\"ID\"}, axis='columns').drop(columns=[\"index\"])"
   ]
  },
  {
   "cell_type": "code",
   "execution_count": null,
   "metadata": {},
   "outputs": [],
   "source": []
  },
  {
   "cell_type": "code",
   "execution_count": 118,
   "metadata": {},
   "outputs": [],
   "source": [
    "clean_df.to_csv(\"clean_data/cleaned_dataset.csv\")"
   ]
  }
 ],
 "metadata": {
  "kernelspec": {
   "display_name": "Python 3",
   "language": "python",
   "name": "python3"
  },
  "language_info": {
   "codemirror_mode": {
    "name": "ipython",
    "version": 3
   },
   "file_extension": ".py",
   "mimetype": "text/x-python",
   "name": "python",
   "nbconvert_exporter": "python",
   "pygments_lexer": "ipython3",
   "version": "3.8.10"
  }
 },
 "nbformat": 4,
 "nbformat_minor": 2
}
